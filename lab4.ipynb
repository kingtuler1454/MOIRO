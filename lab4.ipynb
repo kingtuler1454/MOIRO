{
 "cells": [
  {
   "cell_type": "markdown",
   "id": "6c81a8a2",
   "metadata": {},
   "source": [
    "ЛИНЕЙНЫЕ КЛАССИФИКАТОРЫ.  МЕТОД ОПОРНЫХ ВЕКТОРОВ"
   ]
  },
  {
   "cell_type": "markdown",
   "id": "96b3e86e",
   "metadata": {},
   "source": [
    "Синтезировать линейно разделимые выборки для двух классов двумерных случайных векторов в количестве N=100 штук в каждом классе с использованием предостав-ленного Python файла."
   ]
  },
  {
   "cell_type": "code",
   "execution_count": null,
   "id": "63d326c2",
   "metadata": {
    "vscode": {
     "languageId": "plaintext"
    }
   },
   "outputs": [],
   "source": [
    "import numpy as np\n",
    "import matplotlib.pyplot as plt\n",
    "from sklearn.svm import SVC, LinearSVC\n",
    "from sklearn.metrics import accuracy_score\n",
    "\n",
    "# Генерация данных\n",
    "np.random.seed(42)\n",
    "N = 100\n",
    "\n",
    "# Класс 0\n",
    "M0 = np.array([-1, -1])\n",
    "B0 = np.array([[2, 0.5], [0.5, 1]])\n",
    "X0 = np.random.multivariate_normal(M0, B0, N)\n",
    "\n",
    "# Класс 1\n",
    "M1 = np.array([1, 1])\n",
    "B1 = np.array([[1, -0.5], [-0.5, 2]])\n",
    "X1 = np.random.multivariate_normal(M1, B1, N)\n",
    "\n",
    "X = np.vstack((X0, X1))\n",
    "y = np.hstack((np.zeros(N), np.ones(N)))\n",
    "\n",
    "# Обучение SVM с линейным ядром\n",
    "svm_linear = SVC(kernel='linear', C=1.0)\n",
    "svm_linear.fit(X, y)\n",
    "\n",
    "# Предсказание\n",
    "y_pred = svm_linear.predict(X)\n",
    "accuracy = accuracy_score(y, y_pred)\n",
    "print(f\"Точность SVM (линейное ядро): {accuracy:.2f}\")"
   ]
  },
  {
   "cell_type": "markdown",
   "id": "87bbf497",
   "metadata": {},
   "source": [
    "Построить линейный классификатор по методу опорных векторов на выборке с линейно разделимыми классами. Использовать для этого:\n",
    "а) задачу (1.7) и метод решения квадратичных задач:\n",
    "#import qpsolvers\n",
    "from qpsolvers import solve_qp\n",
    "alpha = solve_qp(P, q, G, h, A, b)\n",
    "б) метод sklearn.svm.SVC библиотеки scikit-learn.\n",
    "в) сопоставить решения из п.(б) с решением методом LinearSVC библиотеки scikit-learn."
   ]
  },
  {
   "cell_type": "code",
   "execution_count": null,
   "id": "45d4efb3",
   "metadata": {
    "vscode": {
     "languageId": "plaintext"
    }
   },
   "outputs": [],
   "source": [
    "# Наложение классов\n",
    "M0 = np.array([0, 0])\n",
    "M1 = np.array([1, 1])\n",
    "X0 = np.random.multivariate_normal(M0, B0, N)\n",
    "X1 = np.random.multivariate_normal(M1, B1, N)\n",
    "\n",
    "X = np.vstack((X0, X1))\n",
    "y = np.hstack((np.zeros(N), np.ones(N)))\n",
    "\n",
    "# SVM с RBF ядром\n",
    "svm_rbf = SVC(kernel='rbf', C=1.0, gamma='scale')\n",
    "svm_rbf.fit(X, y)\n",
    "\n",
    "y_pred_rbf = svm_rbf.predict(X)\n",
    "accuracy_rbf = accuracy_score(y, y_pred_rbf)\n",
    "print(f\"Точность SVM (RBF ядро): {accuracy_rbf:.2f}\")"
   ]
  },
  {
   "cell_type": "markdown",
   "id": "c8fa4b2a",
   "metadata": {},
   "source": [
    "Построить линейный классификатор по методу опорных векторов на выборке с линейно неразделимыми классами. Использовать для этого:\n",
    "а) задачу (4.12) и метод решения квадратичных задач (см. выше). Указать решения для C=1/10, 1, 10 и подобран-но самостоятельно «лучшим коэффициентом».\n",
    "б) метод sklearn.svm.SVC библиотеки scikit-learn."
   ]
  },
  {
   "cell_type": "code",
   "execution_count": null,
   "id": "98718485",
   "metadata": {
    "vscode": {
     "languageId": "plaintext"
    }
   },
   "outputs": [],
   "source": [
    "C_values = [0.1, 1, 10]\n",
    "for C in C_values:\n",
    "    svm = SVC(kernel='linear', C=C)\n",
    "    svm.fit(X, y)\n",
    "    y_pred = svm.predict(X)\n",
    "    acc = accuracy_score(y, y_pred)\n",
    "    print(f\"Точность при C={C}: {acc:.2f}\")"
   ]
  },
  {
   "cell_type": "markdown",
   "id": "0ae63dca",
   "metadata": {},
   "source": [
    "Построить линейный классификатор по методу опорных векторов на выборке с линейно неразделимыми классами. Использовать для этого: а) задачу (4.14) и метод решения квадратичных задач (см. выше). Исследовать решение для различных значений параметра C=1/10, 1, 10 и вариантов ядер из таблицы 4.1.\n",
    "б) метод sklearn.svm.SVC библиотеки scikit-learn"
   ]
  },
  {
   "cell_type": "code",
   "execution_count": null,
   "id": "b1e0282c",
   "metadata": {
    "vscode": {
     "languageId": "plaintext"
    }
   },
   "outputs": [],
   "source": [
    "def plot_decision_boundary(model, X, y, title):\n",
    "    x_min, x_max = X[:, 0].min() - 1, X[:, 0].max() + 1\n",
    "    y_min, y_max = X[:, 1].min() - 1, X[:, 1].max() + 1\n",
    "    xx, yy = np.meshgrid(np.arange(x_min, x_max, 0.01),\n",
    "                         np.arange(y_min, y_max, 0.01))\n",
    "    Z = model.predict(np.c_[xx.ravel(), yy.ravel()])\n",
    "    Z = Z.reshape(xx.shape)\n",
    "    plt.contourf(xx, yy, Z, alpha=0.3)\n",
    "    plt.scatter(X[:, 0], X[:, 1], c=y, edgecolors='k')\n",
    "    plt.title(title)\n",
    "    plt.show()\n",
    "\n",
    "plot_decision_boundary(svm_linear, X, y, \"SVM с линейным ядром\")"
   ]
  }
 ],
 "metadata": {
  "language_info": {
   "name": "python"
  }
 },
 "nbformat": 4,
 "nbformat_minor": 5
}
